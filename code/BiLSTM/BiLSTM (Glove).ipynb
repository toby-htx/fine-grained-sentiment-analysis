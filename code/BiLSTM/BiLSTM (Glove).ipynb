{
  "cells": [
    {
      "cell_type": "code",
      "execution_count": null,
      "metadata": {
        "id": "n2V_4-vUm06i"
      },
      "outputs": [],
      "source": [
        "# Model architecture inspired by Z. Hameed and B. Garcia-Zapirain, \"Sentiment classification using a single-layered BiLSTM model\", IEEE Access, vol. 8, pp. 73992-74001, 2020.\n",
        "import numpy as np\n",
        "import pandas as pd\n",
        "\n",
        "from sklearn.model_selection import train_test_split\n",
        "from sklearn.metrics import classification_report\n",
        "\n",
        "import re\n",
        "\n",
        "from keras.preprocessing.text import Tokenizer\n",
        "from keras.preprocessing.sequence import pad_sequences\n",
        "from keras.models import Model\n",
        "from keras.callbacks import EarlyStopping\n",
        "from keras.layers import Dense, Bidirectional, LSTM, Input, GlobalMaxPool1D, GlobalAveragePooling1D, concatenate\n",
        "\n",
        "from keras.layers.embeddings import Embedding"
      ]
    },
    {
      "cell_type": "code",
      "execution_count": null,
      "metadata": {
        "colab": {
          "base_uri": "https://localhost:8080/"
        },
        "id": "q4p_ufG3it5x",
        "outputId": "db151a13-4372-4035-edb4-cf0d4b470103"
      },
      "outputs": [
        {
          "name": "stdout",
          "output_type": "stream",
          "text": [
            "Found 400000 word vectors.\n"
          ]
        }
      ],
      "source": [
        "# Get glove.6B.300d.txt beforehand\n",
        "\n",
        "embeddings_index = {}\n",
        "with open(\"LOCAL_PATH_TO_glove.6B.300d.txt\") as f:\n",
        "    for line in f:\n",
        "        word, coefs = line.split(maxsplit=1)\n",
        "        coefs = np.fromstring(coefs, \"f\", sep=\" \")\n",
        "        embeddings_index[word] = coefs\n",
        "\n",
        "print(\"Found %s word vectors.\" % len(embeddings_index))"
      ]
    },
    {
      "cell_type": "code",
      "execution_count": null,
      "metadata": {
        "colab": {
          "base_uri": "https://localhost:8080/",
          "height": 203
        },
        "id": "ABjFbsepoBP9",
        "outputId": "7977684b-1155-44d2-8ce8-169f09819f19"
      },
      "outputs": [
        {
          "data": {
            "text/html": [
              "<div>\n",
              "<style scoped>\n",
              "    .dataframe tbody tr th:only-of-type {\n",
              "        vertical-align: middle;\n",
              "    }\n",
              "\n",
              "    .dataframe tbody tr th {\n",
              "        vertical-align: top;\n",
              "    }\n",
              "\n",
              "    .dataframe thead th {\n",
              "        text-align: right;\n",
              "    }\n",
              "</style>\n",
              "<table border=\"1\" class=\"dataframe\">\n",
              "  <thead>\n",
              "    <tr style=\"text-align: right;\">\n",
              "      <th></th>\n",
              "      <th>Emotion</th>\n",
              "      <th>Statement</th>\n",
              "    </tr>\n",
              "  </thead>\n",
              "  <tbody>\n",
              "    <tr>\n",
              "      <th>0</th>\n",
              "      <td>guilt</td>\n",
              "      <td>Once when I was in the cell group (religious a...</td>\n",
              "    </tr>\n",
              "    <tr>\n",
              "      <th>1</th>\n",
              "      <td>shame</td>\n",
              "      <td>When I overslept for the second time on the da...</td>\n",
              "    </tr>\n",
              "    <tr>\n",
              "      <th>2</th>\n",
              "      <td>shame</td>\n",
              "      <td>I had not punched a ticket in the bus because ...</td>\n",
              "    </tr>\n",
              "    <tr>\n",
              "      <th>3</th>\n",
              "      <td>disgust</td>\n",
              "      <td>When a man spoke very sexistly in the company ...</td>\n",
              "    </tr>\n",
              "    <tr>\n",
              "      <th>4</th>\n",
              "      <td>shame</td>\n",
              "      <td>About a dozen girls laughed at me and I was su...</td>\n",
              "    </tr>\n",
              "  </tbody>\n",
              "</table>\n",
              "</div>"
            ],
            "text/plain": [
              "   Emotion                                          Statement\n",
              "0    guilt  Once when I was in the cell group (religious a...\n",
              "1    shame  When I overslept for the second time on the da...\n",
              "2    shame  I had not punched a ticket in the bus because ...\n",
              "3  disgust  When a man spoke very sexistly in the company ...\n",
              "4    shame  About a dozen girls laughed at me and I was su..."
            ]
          },
          "metadata": {},
          "output_type": "display_data"
        }
      ],
      "source": [
        "df = pd.read_csv('LOCAL_PATH_TO_DATASET')\n",
        "df = df[['Emotion','Statement']]\n",
        "display(df.head())"
      ]
    },
    {
      "cell_type": "code",
      "execution_count": null,
      "metadata": {
        "id": "rTc6earVoqae"
      },
      "outputs": [],
      "source": [
        "def process_text(document):\n",
        "     \n",
        "    # Remove extra white space from text\n",
        "    document = re.sub(r'\\s+', ' ', document, flags=re.I)\n",
        "         \n",
        "    # Remove all the special characters from text\n",
        "    document = re.sub(r'\\W', ' ', str(document))\n",
        "\n",
        "    return document"
      ]
    },
    {
      "cell_type": "code",
      "execution_count": null,
      "metadata": {
        "colab": {
          "base_uri": "https://localhost:8080/",
          "height": 237
        },
        "id": "PXKAi9lduGId",
        "outputId": "a42af7c0-b212-4b63-c7e2-8d9023ad5389"
      },
      "outputs": [
        {
          "name": "stdout",
          "output_type": "stream",
          "text": [
            "[nltk_data] Downloading package wordnet to /root/nltk_data...\n",
            "[nltk_data]   Unzipping corpora/wordnet.zip.\n"
          ]
        },
        {
          "data": {
            "text/html": [
              "<div>\n",
              "<style scoped>\n",
              "    .dataframe tbody tr th:only-of-type {\n",
              "        vertical-align: middle;\n",
              "    }\n",
              "\n",
              "    .dataframe tbody tr th {\n",
              "        vertical-align: top;\n",
              "    }\n",
              "\n",
              "    .dataframe thead th {\n",
              "        text-align: right;\n",
              "    }\n",
              "</style>\n",
              "<table border=\"1\" class=\"dataframe\">\n",
              "  <thead>\n",
              "    <tr style=\"text-align: right;\">\n",
              "      <th></th>\n",
              "      <th>Emotion</th>\n",
              "      <th>Statement</th>\n",
              "      <th>preprocessedStatement</th>\n",
              "    </tr>\n",
              "  </thead>\n",
              "  <tbody>\n",
              "    <tr>\n",
              "      <th>0</th>\n",
              "      <td>guilt</td>\n",
              "      <td>Once when I was in the cell group (religious a...</td>\n",
              "      <td>[once, when, was, the, cell, group, religious,...</td>\n",
              "    </tr>\n",
              "    <tr>\n",
              "      <th>1</th>\n",
              "      <td>shame</td>\n",
              "      <td>When I overslept for the second time on the da...</td>\n",
              "      <td>[when, overslept, for, the, second, time, the,...</td>\n",
              "    </tr>\n",
              "    <tr>\n",
              "      <th>2</th>\n",
              "      <td>shame</td>\n",
              "      <td>I had not punched a ticket in the bus because ...</td>\n",
              "      <td>[had, not, punched, ticket, the, bus, because,...</td>\n",
              "    </tr>\n",
              "    <tr>\n",
              "      <th>3</th>\n",
              "      <td>disgust</td>\n",
              "      <td>When a man spoke very sexistly in the company ...</td>\n",
              "      <td>[when, man, spoke, very, sexistly, the, compan...</td>\n",
              "    </tr>\n",
              "    <tr>\n",
              "      <th>4</th>\n",
              "      <td>shame</td>\n",
              "      <td>About a dozen girls laughed at me and I was su...</td>\n",
              "      <td>[about, dozen, girls, laughed, and, was, sure,...</td>\n",
              "    </tr>\n",
              "  </tbody>\n",
              "</table>\n",
              "</div>"
            ],
            "text/plain": [
              "   Emotion  ...                              preprocessedStatement\n",
              "0    guilt  ...  [once, when, was, the, cell, group, religious,...\n",
              "1    shame  ...  [when, overslept, for, the, second, time, the,...\n",
              "2    shame  ...  [had, not, punched, ticket, the, bus, because,...\n",
              "3  disgust  ...  [when, man, spoke, very, sexistly, the, compan...\n",
              "4    shame  ...  [about, dozen, girls, laughed, and, was, sure,...\n",
              "\n",
              "[5 rows x 3 columns]"
            ]
          },
          "metadata": {},
          "output_type": "display_data"
        }
      ],
      "source": [
        "from tqdm import tqdm\n",
        "\n",
        "df['preprocessedStatement'] = df.Statement.apply(process_text)\n",
        "display(df.head())"
      ]
    },
    {
      "cell_type": "code",
      "execution_count": null,
      "metadata": {
        "id": "e6r0-s5xuGrk"
      },
      "outputs": [],
      "source": [
        "max_length = df.preprocessedStatement.apply(lambda x: len(x.split())).max()\n",
        "\n",
        "t = Tokenizer()\n",
        "t.fit_on_texts(df['preprocessedStatement'] )\n",
        "vocab_size = len(t.word_index) + 1\n",
        "encoded_tweets = t.texts_to_sequences(df['preprocessedStatement'] )\n",
        "X = pad_sequences(encoded_tweets, maxlen=max_length, padding='post')"
      ]
    },
    {
      "cell_type": "code",
      "execution_count": null,
      "metadata": {
        "id": "zAJilszqwku7"
      },
      "outputs": [],
      "source": [
        "embedding_matrix = np.zeros((vocab_size, 300))\n",
        "for word, i in t.word_index.items():\n",
        "    embedding_vector = embeddings_index.get(word)\n",
        "    if embedding_vector is not None:\n",
        "        embedding_matrix[i] = embedding_vector"
      ]
    },
    {
      "cell_type": "code",
      "execution_count": null,
      "metadata": {
        "colab": {
          "base_uri": "https://localhost:8080/"
        },
        "id": "9axV0QBukz44",
        "outputId": "a787e5bd-0fb5-4241-c341-8865c372f52c"
      },
      "outputs": [
        {
          "name": "stdout",
          "output_type": "stream",
          "text": [
            "[[0. 0. 0. ... 0. 0. 0.]\n",
            " [0. 0. 0. ... 0. 0. 1.]\n",
            " [0. 0. 0. ... 0. 0. 1.]\n",
            " ...\n",
            " [0. 0. 0. ... 1. 0. 0.]\n",
            " [0. 0. 0. ... 0. 0. 1.]\n",
            " [0. 0. 0. ... 0. 0. 1.]]\n"
          ]
        }
      ],
      "source": [
        "from sklearn import preprocessing\n",
        "\n",
        "le = preprocessing.LabelEncoder()\n",
        "# Encode labels in column 'Emotion'. \n",
        "df['Emotion'] = le.fit_transform(df['Emotion']) \n",
        "y = df.pop('Emotion')\n",
        "y_new = tf.keras.utils.to_categorical(y, num_classes=7)\n",
        "print(y_new)"
      ]
    },
    {
      "cell_type": "code",
      "execution_count": null,
      "metadata": {
        "colab": {
          "base_uri": "https://localhost:8080/",
          "height": 279
        },
        "id": "afx1QfS3Zj57",
        "outputId": "fdaa819a-2180-4f05-c39e-0af177f8c344"
      },
      "outputs": [
        {
          "ename": "ValueError",
          "evalue": "ignored",
          "output_type": "error",
          "traceback": [
            "\u001b[0;31m---------------------------------------------------------------------------\u001b[0m",
            "\u001b[0;31mValueError\u001b[0m                                Traceback (most recent call last)",
            "\u001b[0;32m<ipython-input-9-726c7bb4c52e>\u001b[0m in \u001b[0;36m<module>\u001b[0;34m()\u001b[0m\n\u001b[0;32m----> 1\u001b[0;31m \u001b[0mlist\u001b[0m\u001b[0;34m(\u001b[0m\u001b[0mle\u001b[0m\u001b[0;34m.\u001b[0m\u001b[0minverse_transform\u001b[0m\u001b[0;34m(\u001b[0m\u001b[0;34m[\u001b[0m\u001b[0;36m0\u001b[0m\u001b[0;34m,\u001b[0m\u001b[0;36m1\u001b[0m\u001b[0;34m,\u001b[0m\u001b[0;36m2\u001b[0m\u001b[0;34m,\u001b[0m\u001b[0;36m3\u001b[0m\u001b[0;34m,\u001b[0m\u001b[0;36m4\u001b[0m\u001b[0;34m,\u001b[0m\u001b[0;36m5\u001b[0m\u001b[0;34m,\u001b[0m\u001b[0;36m6\u001b[0m\u001b[0;34m]\u001b[0m\u001b[0;34m)\u001b[0m\u001b[0;34m)\u001b[0m\u001b[0;34m\u001b[0m\u001b[0;34m\u001b[0m\u001b[0m\n\u001b[0m",
            "\u001b[0;32m/usr/local/lib/python3.7/dist-packages/sklearn/preprocessing/_label.py\u001b[0m in \u001b[0;36minverse_transform\u001b[0;34m(self, y)\u001b[0m\n\u001b[1;32m    295\u001b[0m         \u001b[0;32mif\u001b[0m \u001b[0mlen\u001b[0m\u001b[0;34m(\u001b[0m\u001b[0mdiff\u001b[0m\u001b[0;34m)\u001b[0m\u001b[0;34m:\u001b[0m\u001b[0;34m\u001b[0m\u001b[0;34m\u001b[0m\u001b[0m\n\u001b[1;32m    296\u001b[0m             raise ValueError(\n\u001b[0;32m--> 297\u001b[0;31m                     \"y contains previously unseen labels: %s\" % str(diff))\n\u001b[0m\u001b[1;32m    298\u001b[0m         \u001b[0my\u001b[0m \u001b[0;34m=\u001b[0m \u001b[0mnp\u001b[0m\u001b[0;34m.\u001b[0m\u001b[0masarray\u001b[0m\u001b[0;34m(\u001b[0m\u001b[0my\u001b[0m\u001b[0;34m)\u001b[0m\u001b[0;34m\u001b[0m\u001b[0;34m\u001b[0m\u001b[0m\n\u001b[1;32m    299\u001b[0m         \u001b[0;32mreturn\u001b[0m \u001b[0mself\u001b[0m\u001b[0;34m.\u001b[0m\u001b[0mclasses_\u001b[0m\u001b[0;34m[\u001b[0m\u001b[0my\u001b[0m\u001b[0;34m]\u001b[0m\u001b[0;34m\u001b[0m\u001b[0;34m\u001b[0m\u001b[0m\n",
            "\u001b[0;31mValueError\u001b[0m: y contains previously unseen labels: [6]"
          ]
        }
      ],
      "source": [
        "list(le.inverse_transform([0,1,2,3,4,5,6]))"
      ]
    },
    {
      "cell_type": "code",
      "execution_count": null,
      "metadata": {
        "colab": {
          "base_uri": "https://localhost:8080/"
        },
        "id": "DgIdTW-MaIKT",
        "outputId": "e1f870a3-8f84-43df-a39d-c664968f347e"
      },
      "outputs": [
        {
          "data": {
            "text/plain": [
              "3    12885\n",
              "5     1823\n",
              "4     1150\n",
              "0     1022\n",
              "1      353\n",
              "2      174\n",
              "Name: Emotion, dtype: int64"
            ]
          },
          "execution_count": 10,
          "metadata": {},
          "output_type": "execute_result"
        }
      ],
      "source": [
        "y.value_counts()"
      ]
    },
    {
      "cell_type": "code",
      "execution_count": null,
      "metadata": {},
      "outputs": [],
      "source": [
        "# 2 options to handle imbalanced dataset: class_weight or focal loss\n",
        "class_weight = {0: 6, 1: 22, 2: 30, 3: 1, 4: 2, 5: 7, 6: 5}"
      ]
    },
    {
      "cell_type": "code",
      "execution_count": null,
      "metadata": {
        "id": "C38rA_9Qwnxp"
      },
      "outputs": [],
      "source": [
        "from sklearn.model_selection import train_test_split\n",
        "\n",
        "x_train, x_test, y_train, y_test = train_test_split(X, y_new, test_size=0.05, stratify=y_new)\n",
        "\n",
        "x_val = x_train[:100]\n",
        "y_val = y_train[:100]\n",
        "x_train = x_train[100:]\n",
        "y_train = y_train[100:]"
      ]
    },
    {
      "cell_type": "code",
      "execution_count": null,
      "metadata": {
        "id": "utoidQdokxGw"
      },
      "outputs": [],
      "source": [
        "def focal_loss(gamma=2., alpha=4.):\n",
        "\n",
        "    gamma = float(gamma)\n",
        "    alpha = float(alpha)\n",
        "\n",
        "    def focal_loss_fixed(y_true, y_pred):\n",
        "        \"\"\"Focal loss for multi-classification\n",
        "        FL(p_t)=-alpha(1-p_t)^{gamma}ln(p_t)\n",
        "        Notice: y_pred is probability after softmax\n",
        "        gradient is d(Fl)/d(p_t) not d(Fl)/d(x) as described in paper\n",
        "        d(Fl)/d(p_t) * [p_t(1-p_t)] = d(Fl)/d(x)\n",
        "        Focal Loss for Dense Object Detection\n",
        "        https://arxiv.org/abs/1708.02002\n",
        "\n",
        "        Arguments:\n",
        "            y_true {tensor} -- ground truth labels, shape of [batch_size, num_cls]\n",
        "            y_pred {tensor} -- model's output, shape of [batch_size, num_cls]\n",
        "\n",
        "        Keyword Arguments:\n",
        "            gamma {float} -- (default: {2.0})\n",
        "            alpha {float} -- (default: {4.0})\n",
        "\n",
        "        Returns:\n",
        "            [tensor] -- loss.\n",
        "        \"\"\"\n",
        "        epsilon = 1.e-9\n",
        "        y_true = tf.convert_to_tensor(y_true, tf.float32)\n",
        "        y_pred = tf.convert_to_tensor(y_pred, tf.float32)\n",
        "\n",
        "        model_out = tf.add(y_pred, epsilon)\n",
        "        ce = tf.multiply(y_true, -tf.math.log(model_out))\n",
        "        weight = tf.multiply(y_true, tf.pow(tf.subtract(1., model_out), gamma))\n",
        "        fl = tf.multiply(alpha, tf.multiply(weight, ce))\n",
        "        reduced_fl = tf.reduce_max(fl, axis=1)\n",
        "        return tf.reduce_mean(reduced_fl)\n",
        "    return focal_loss_fixed"
      ]
    },
    {
      "cell_type": "code",
      "execution_count": null,
      "metadata": {
        "colab": {
          "base_uri": "https://localhost:8080/"
        },
        "id": "UQHmNMXbGLSh",
        "outputId": "f33cf529-d3c9-4246-85a2-e093e7f0a4d7"
      },
      "outputs": [
        {
          "name": "stdout",
          "output_type": "stream",
          "text": [
            "Model: \"model_1\"\n",
            "__________________________________________________________________________________________________\n",
            "Layer (type)                    Output Shape         Param #     Connected to                     \n",
            "==================================================================================================\n",
            "input_2 (InputLayer)            [(None, 231)]        0                                            \n",
            "__________________________________________________________________________________________________\n",
            "embedding_1 (Embedding)         (None, 231, 300)     3194400     input_2[0][0]                    \n",
            "__________________________________________________________________________________________________\n",
            "bidirectional_1 (Bidirectional) (None, 231, 64)      85248       embedding_1[0][0]                \n",
            "__________________________________________________________________________________________________\n",
            "global_max_pooling1d_1 (GlobalM (None, 64)           0           bidirectional_1[0][0]            \n",
            "__________________________________________________________________________________________________\n",
            "global_average_pooling1d_1 (Glo (None, 64)           0           bidirectional_1[0][0]            \n",
            "__________________________________________________________________________________________________\n",
            "concatenate_1 (Concatenate)     (None, 128)          0           global_max_pooling1d_1[0][0]     \n",
            "                                                                 global_average_pooling1d_1[0][0] \n",
            "__________________________________________________________________________________________________\n",
            "dense_2 (Dense)                 (None, 64)           8256        concatenate_1[0][0]              \n",
            "__________________________________________________________________________________________________\n",
            "dense_3 (Dense)                 (None, 7)            455         dense_2[0][0]                    \n",
            "==================================================================================================\n",
            "Total params: 3,288,359\n",
            "Trainable params: 93,959\n",
            "Non-trainable params: 3,194,400\n",
            "__________________________________________________________________________________________________\n"
          ]
        }
      ],
      "source": [
        "callback = EarlyStopping(monitor='val_loss', patience=3)\n",
        "input_layer = Input(shape=(max_length), )\n",
        "x = Embedding(vocab_size, 300, weights=[embedding_matrix], trainable=False)(input_layer)\n",
        "x = Bidirectional(LSTM(32, return_sequences=True))(x)\n",
        "x_a = GlobalMaxPool1D()(x)\n",
        "x_b = GlobalAveragePooling1D()(x)\n",
        "x = concatenate([x_a,x_b])\n",
        "x = Dense(64, activation=\"relu\")(x)\n",
        "x = Dense(7, activation='softmax')(x)\n",
        "model_glove = Model(inputs=input_layer, outputs=x)\n",
        "model_glove.compile(loss='categorical_crossentropy', optimizer='adam', metrics=['accuracy']) #use if you are using class_weight\n",
        "#model_glove.compile(loss=focal_loss(alpha=1), optimizer='adam', metrics=['accuracy']) #use if you are using focal loss\n",
        "model_glove.summary()"
      ]
    },
    {
      "cell_type": "code",
      "execution_count": null,
      "metadata": {
        "colab": {
          "base_uri": "https://localhost:8080/",
          "height": 754
        },
        "id": "GZRstBhgUwWj",
        "outputId": "b4939808-4d39-40b3-ae06-cf23926c514e"
      },
      "outputs": [
        {
          "data": {
            "image/png": "[encoded data removed]",
            "text/plain": [
              "<IPython.core.display.Image object>"
            ]
          },
          "execution_count": 11,
          "metadata": {},
          "output_type": "execute_result"
        }
      ],
      "source": [
        "from tensorflow.keras.utils import plot_model\n",
        "plot_model(model_glove,show_shapes= True)"
      ]
    },
    {
      "cell_type": "code",
      "execution_count": null,
      "metadata": {
        "colab": {
          "base_uri": "https://localhost:8080/"
        },
        "id": "Fw2wOfzBwxU9",
        "outputId": "83134394-f7cd-4190-a280-88761395c281"
      },
      "outputs": [
        {
          "name": "stdout",
          "output_type": "stream",
          "text": [
            "Epoch 1/20\n",
            "514/514 [==============================] - 47s 82ms/step - loss: 0.3910 - accuracy: 0.7842 - val_loss: 0.2771 - val_accuracy: 0.8500\n",
            "Epoch 2/20\n",
            "514/514 [==============================] - 41s 80ms/step - loss: 0.2683 - accuracy: 0.8363 - val_loss: 0.2529 - val_accuracy: 0.8700\n",
            "Epoch 3/20\n",
            "514/514 [==============================] - 41s 79ms/step - loss: 0.2281 - accuracy: 0.8553 - val_loss: 0.2219 - val_accuracy: 0.8900\n",
            "Epoch 4/20\n",
            "514/514 [==============================] - 41s 79ms/step - loss: 0.1945 - accuracy: 0.8773 - val_loss: 0.2221 - val_accuracy: 0.8900\n",
            "Epoch 5/20\n",
            "514/514 [==============================] - 41s 79ms/step - loss: 0.1639 - accuracy: 0.8919 - val_loss: 0.2285 - val_accuracy: 0.9000\n",
            "Epoch 6/20\n",
            "514/514 [==============================] - 41s 79ms/step - loss: 0.1366 - accuracy: 0.9059 - val_loss: 0.2313 - val_accuracy: 0.9100\n",
            "Epoch 7/20\n",
            "514/514 [==============================] - 41s 79ms/step - loss: 0.1153 - accuracy: 0.9183 - val_loss: 0.2331 - val_accuracy: 0.9000\n",
            "Epoch 8/20\n",
            "514/514 [==============================] - 41s 79ms/step - loss: 0.0946 - accuracy: 0.9315 - val_loss: 0.2411 - val_accuracy: 0.9100\n",
            "Epoch 9/20\n",
            "514/514 [==============================] - 41s 79ms/step - loss: 0.0787 - accuracy: 0.9412 - val_loss: 0.2598 - val_accuracy: 0.8800\n",
            "Epoch 10/20\n",
            "514/514 [==============================] - 41s 79ms/step - loss: 0.0677 - accuracy: 0.9479 - val_loss: 0.2646 - val_accuracy: 0.9000\n",
            "Epoch 11/20\n",
            "514/514 [==============================] - 41s 79ms/step - loss: 0.0569 - accuracy: 0.9551 - val_loss: 0.2863 - val_accuracy: 0.9000\n",
            "Epoch 12/20\n",
            "514/514 [==============================] - 41s 80ms/step - loss: 0.0517 - accuracy: 0.9605 - val_loss: 0.2802 - val_accuracy: 0.9100\n",
            "Epoch 13/20\n",
            "514/514 [==============================] - 41s 80ms/step - loss: 0.0441 - accuracy: 0.9637 - val_loss: 0.2599 - val_accuracy: 0.9000\n",
            "Epoch 14/20\n",
            "514/514 [==============================] - 41s 79ms/step - loss: 0.0396 - accuracy: 0.9659 - val_loss: 0.2829 - val_accuracy: 0.9000\n",
            "Epoch 15/20\n",
            "514/514 [==============================] - 41s 79ms/step - loss: 0.0376 - accuracy: 0.9686 - val_loss: 0.2933 - val_accuracy: 0.9000\n",
            "Epoch 16/20\n",
            "514/514 [==============================] - 40s 79ms/step - loss: 0.0338 - accuracy: 0.9714 - val_loss: 0.2870 - val_accuracy: 0.9000\n",
            "Epoch 17/20\n",
            "514/514 [==============================] - 40s 79ms/step - loss: 0.0326 - accuracy: 0.9714 - val_loss: 0.3028 - val_accuracy: 0.9100\n",
            "Epoch 18/20\n",
            "514/514 [==============================] - 40s 79ms/step - loss: 0.0316 - accuracy: 0.9735 - val_loss: 0.2841 - val_accuracy: 0.9300\n",
            "Epoch 19/20\n",
            "514/514 [==============================] - 40s 79ms/step - loss: 0.0276 - accuracy: 0.9758 - val_loss: 0.2611 - val_accuracy: 0.9000\n",
            "Epoch 20/20\n",
            "514/514 [==============================] - 40s 78ms/step - loss: 0.0274 - accuracy: 0.9767 - val_loss: 0.2838 - val_accuracy: 0.9200\n"
          ]
        },
        {
          "data": {
            "text/plain": [
              "<keras.callbacks.History at 0x7f6934080dd0>"
            ]
          },
          "execution_count": 14,
          "metadata": {},
          "output_type": "execute_result"
        }
      ],
      "source": [
        "model_glove.fit(x_train, y_train, epochs = 20, validation_data=(x_val, y_val), callbacks=[callback]) #insert class_weight=class_weight if using class_weight"
      ]
    },
    {
      "cell_type": "code",
      "execution_count": null,
      "metadata": {
        "id": "9TTnu0LUwz70"
      },
      "outputs": [],
      "source": [
        "y_pred = model_glove.predict(x_test)"
      ]
    },
    {
      "cell_type": "code",
      "execution_count": null,
      "metadata": {
        "id": "SJPeNalFgBRY"
      },
      "outputs": [],
      "source": [
        "y_pred_clean = np.argmax(y_pred, 1)\n",
        "y_test_clean = np.argmax(y_test, 1)"
      ]
    },
    {
      "cell_type": "code",
      "execution_count": null,
      "metadata": {
        "colab": {
          "base_uri": "https://localhost:8080/"
        },
        "id": "E2a92tjpw025",
        "outputId": "43d86925-f047-49c4-fd48-555216d57d44"
      },
      "outputs": [
        {
          "name": "stdout",
          "output_type": "stream",
          "text": [
            "              precision    recall  f1-score   support\n",
            "\n",
            "           0       0.61      0.39      0.48        51\n",
            "           1       0.53      0.50      0.51        18\n",
            "           2       1.00      0.67      0.80         9\n",
            "           3       0.93      0.96      0.94       645\n",
            "           4       0.70      0.68      0.69        57\n",
            "           5       0.70      0.70      0.70        91\n",
            "\n",
            "    accuracy                           0.87       871\n",
            "   macro avg       0.74      0.65      0.69       871\n",
            "weighted avg       0.86      0.87      0.86       871\n",
            "\n"
          ]
        }
      ],
      "source": [
        "print(classification_report(y_test_clean, y_pred_clean))"
      ]
    }
  ],
  "metadata": {
    "accelerator": "GPU",
    "colab": {
      "collapsed_sections": [],
      "name": "BiLSTM-Glove.ipynb",
      "provenance": []
    },
    "kernelspec": {
      "display_name": "Python 3",
      "name": "python3"
    },
    "language_info": {
      "name": "python"
    }
  },
  "nbformat": 4,
  "nbformat_minor": 2
}
