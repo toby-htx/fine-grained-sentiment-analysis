{
  "cells": [
    {
      "cell_type": "code",
      "execution_count": null,
      "metadata": {
        "colab": {
          "base_uri": "https://localhost:8080/"
        },
        "id": "OsFZIkXwMh_r",
        "outputId": "55828527-222b-4c8c-f8f0-48c9eedb4cc2"
      },
      "outputs": [
        {
          "name": "stdout",
          "output_type": "stream",
          "text": [
            "Requirement already satisfied: fasttext in /usr/local/lib/python3.7/dist-packages (0.9.2)\n",
            "Requirement already satisfied: pybind11>=2.2 in /usr/local/lib/python3.7/dist-packages (from fasttext) (2.7.1)\n",
            "Requirement already satisfied: numpy in /usr/local/lib/python3.7/dist-packages (from fasttext) (1.19.5)\n",
            "Requirement already satisfied: setuptools>=0.7.0 in /usr/local/lib/python3.7/dist-packages (from fasttext) (57.4.0)\n"
          ]
        },
        {
          "name": "stderr",
          "output_type": "stream",
          "text": [
            "Warning : `load_model` does not return WordVectorModel or SupervisedModel any more, but a `FastText` object which is very similar.\n"
          ]
        }
      ],
      "source": [
        "# Model architecture inspired by Z. Hameed and B. Garcia-Zapirain, \"Sentiment classification using a single-layered BiLSTM model\", IEEE Access, vol. 8, pp. 73992-74001, 2020.\n",
        "#!pip install fasttext\n",
        "\n",
        "import numpy as np\n",
        "import fasttext\n",
        "import fasttext.util\n",
        "    \n",
        "# Download the cc.en.300.bin English model beforehand from FastText website\n",
        "model_ft = fasttext.load_model('LOCAL_PATH_TO_cc.en.300.bin') "
      ]
    },
    {
      "cell_type": "code",
      "execution_count": null,
      "metadata": {
        "id": "dXwh6G--HibT"
      },
      "outputs": [],
      "source": [
        "import pandas as pd\n",
        "\n",
        "from sklearn.model_selection import train_test_split\n",
        "from sklearn.metrics import classification_report\n",
        "\n",
        "import re\n",
        "\n",
        "from keras.preprocessing.text import Tokenizer\n",
        "from keras.preprocessing.sequence import pad_sequences\n",
        "from keras.models import Model\n",
        "from keras.callbacks import EarlyStopping\n",
        "from keras.layers import Dense, Bidirectional, LSTM, Input, GlobalMaxPool1D, GlobalAveragePooling1D, concatenate\n",
        "\n",
        "from keras.layers.embeddings import Embedding\n",
        "\n",
        "def process_text(document):\n",
        "     \n",
        "    # Remove extra white space from text\n",
        "    document = re.sub(r'\\s+', ' ', document, flags=re.I)\n",
        "         \n",
        "    # Remove all the special characters from text\n",
        "    document = re.sub(r'\\W', ' ', str(document))\n",
        " \n",
        "    return document"
      ]
    },
    {
      "cell_type": "code",
      "execution_count": null,
      "metadata": {
        "colab": {
          "base_uri": "https://localhost:8080/",
          "height": 203
        },
        "id": "PvxpSR0ZquXA",
        "outputId": "bb602e5b-38e7-4b29-8ad9-e09467cb150a"
      },
      "outputs": [
        {
          "data": {
            "text/html": [
              "<div>\n",
              "<style scoped>\n",
              "    .dataframe tbody tr th:only-of-type {\n",
              "        vertical-align: middle;\n",
              "    }\n",
              "\n",
              "    .dataframe tbody tr th {\n",
              "        vertical-align: top;\n",
              "    }\n",
              "\n",
              "    .dataframe thead th {\n",
              "        text-align: right;\n",
              "    }\n",
              "</style>\n",
              "<table border=\"1\" class=\"dataframe\">\n",
              "  <thead>\n",
              "    <tr style=\"text-align: right;\">\n",
              "      <th></th>\n",
              "      <th>Emotion</th>\n",
              "      <th>Statement</th>\n",
              "    </tr>\n",
              "  </thead>\n",
              "  <tbody>\n",
              "    <tr>\n",
              "      <th>0</th>\n",
              "      <td>joy</td>\n",
              "      <td>Thank you , Steven . I accept your advice .</td>\n",
              "    </tr>\n",
              "    <tr>\n",
              "      <th>1</th>\n",
              "      <td>surprise</td>\n",
              "      <td>Oh my God, I can't believe I have two-two chil...</td>\n",
              "    </tr>\n",
              "    <tr>\n",
              "      <th>2</th>\n",
              "      <td>neutral</td>\n",
              "      <td>Look, it's not that big of a deal, so Monica a...</td>\n",
              "    </tr>\n",
              "    <tr>\n",
              "      <th>3</th>\n",
              "      <td>anger</td>\n",
              "      <td>And I wanna know why?!!</td>\n",
              "    </tr>\n",
              "    <tr>\n",
              "      <th>4</th>\n",
              "      <td>joy</td>\n",
              "      <td>And, ah, you know, your fooling around with her.</td>\n",
              "    </tr>\n",
              "  </tbody>\n",
              "</table>\n",
              "</div>"
            ],
            "text/plain": [
              "    Emotion                                          Statement\n",
              "0       joy       Thank you , Steven . I accept your advice . \n",
              "1  surprise  Oh my God, I can't believe I have two-two chil...\n",
              "2   neutral  Look, it's not that big of a deal, so Monica a...\n",
              "3     anger                            And I wanna know why?!!\n",
              "4       joy   And, ah, you know, your fooling around with her."
            ]
          },
          "metadata": {},
          "output_type": "display_data"
        }
      ],
      "source": [
        "df = pd.read_csv('LOCAL_PATH_TO_DATASET')\n",
        "df = df[['Emotion','Statement']]\n",
        "display(df.head())"
      ]
    },
    {
      "cell_type": "code",
      "execution_count": null,
      "metadata": {
        "colab": {
          "base_uri": "https://localhost:8080/",
          "height": 237
        },
        "id": "pp8rsDrVqhX2",
        "outputId": "44a8400f-7d34-480c-cd3e-9df89fb38c6d"
      },
      "outputs": [
        {
          "name": "stdout",
          "output_type": "stream",
          "text": [
            "[nltk_data] Downloading package wordnet to /root/nltk_data...\n",
            "[nltk_data]   Package wordnet is already up-to-date!\n"
          ]
        },
        {
          "data": {
            "text/html": [
              "<div>\n",
              "<style scoped>\n",
              "    .dataframe tbody tr th:only-of-type {\n",
              "        vertical-align: middle;\n",
              "    }\n",
              "\n",
              "    .dataframe tbody tr th {\n",
              "        vertical-align: top;\n",
              "    }\n",
              "\n",
              "    .dataframe thead th {\n",
              "        text-align: right;\n",
              "    }\n",
              "</style>\n",
              "<table border=\"1\" class=\"dataframe\">\n",
              "  <thead>\n",
              "    <tr style=\"text-align: right;\">\n",
              "      <th></th>\n",
              "      <th>Emotion</th>\n",
              "      <th>Statement</th>\n",
              "      <th>preprocessedStatement</th>\n",
              "    </tr>\n",
              "  </thead>\n",
              "  <tbody>\n",
              "    <tr>\n",
              "      <th>0</th>\n",
              "      <td>joy</td>\n",
              "      <td>Thank you , Steven . I accept your advice .</td>\n",
              "      <td>Thank you   Steven   I accept your advice</td>\n",
              "    </tr>\n",
              "    <tr>\n",
              "      <th>1</th>\n",
              "      <td>surprise</td>\n",
              "      <td>Oh my God, I can't believe I have two-two chil...</td>\n",
              "      <td>Oh my God  I can t believe I have two two chil...</td>\n",
              "    </tr>\n",
              "    <tr>\n",
              "      <th>2</th>\n",
              "      <td>neutral</td>\n",
              "      <td>Look, it's not that big of a deal, so Monica a...</td>\n",
              "      <td>Look  it s not that big of a deal  so Monica a...</td>\n",
              "    </tr>\n",
              "    <tr>\n",
              "      <th>3</th>\n",
              "      <td>anger</td>\n",
              "      <td>And I wanna know why?!!</td>\n",
              "      <td>And I wanna know why</td>\n",
              "    </tr>\n",
              "    <tr>\n",
              "      <th>4</th>\n",
              "      <td>joy</td>\n",
              "      <td>And, ah, you know, your fooling around with her.</td>\n",
              "      <td>And  ah  you know  your fooling around with her</td>\n",
              "    </tr>\n",
              "  </tbody>\n",
              "</table>\n",
              "</div>"
            ],
            "text/plain": [
              "    Emotion  ...                              preprocessedStatement\n",
              "0       joy  ...       Thank you   Steven   I accept your advice   \n",
              "1  surprise  ...  Oh my God  I can t believe I have two two chil...\n",
              "2   neutral  ...  Look  it s not that big of a deal  so Monica a...\n",
              "3     anger  ...                            And I wanna know why   \n",
              "4       joy  ...   And  ah  you know  your fooling around with her \n",
              "\n",
              "[5 rows x 3 columns]"
            ]
          },
          "metadata": {},
          "output_type": "display_data"
        }
      ],
      "source": [
        "from tqdm import tqdm\n",
        "\n",
        "nltk.download('wordnet')\n",
        "\n",
        "df['preprocessedStatement'] = df.Statement.apply(process_text)\n",
        "display(df.head())"
      ]
    },
    {
      "cell_type": "code",
      "execution_count": null,
      "metadata": {
        "id": "BmBmQArxqdtM"
      },
      "outputs": [],
      "source": [
        "max_length = df.preprocessedStatement.apply(lambda x: len(x.split())).max()\n",
        "\n",
        "t = Tokenizer()\n",
        "t.fit_on_texts(df['preprocessedStatement'] )\n",
        "vocab_size = len(t.word_index) + 1\n",
        "encoded_tweets = t.texts_to_sequences(df['preprocessedStatement'] )\n",
        "X = pad_sequences(encoded_tweets, maxlen=max_length, padding='post')"
      ]
    },
    {
      "cell_type": "code",
      "execution_count": null,
      "metadata": {
        "id": "7iyMIuD2sO82"
      },
      "outputs": [],
      "source": [
        "embedding_matrix = np.zeros((vocab_size, 300))\n",
        "for word, i in t.word_index.items():\n",
        "    embedding_vector = model_ft.get_word_vector(word)\n",
        "    if embedding_vector is not None:\n",
        "        embedding_matrix[i] = embedding_vector"
      ]
    },
    {
      "cell_type": "code",
      "execution_count": null,
      "metadata": {
        "colab": {
          "base_uri": "https://localhost:8080/"
        },
        "id": "G9pHlPlysla-",
        "outputId": "dca97377-6847-4b9e-d42e-5011a09ca97a"
      },
      "outputs": [
        {
          "name": "stdout",
          "output_type": "stream",
          "text": [
            "[[0. 0. 0. ... 0. 0. 0.]\n",
            " [0. 0. 0. ... 0. 0. 1.]\n",
            " [0. 0. 0. ... 1. 0. 0.]\n",
            " ...\n",
            " [1. 0. 0. ... 0. 0. 0.]\n",
            " [1. 0. 0. ... 0. 0. 0.]\n",
            " [0. 0. 0. ... 1. 0. 0.]]\n"
          ]
        }
      ],
      "source": [
        "from sklearn import preprocessing\n",
        "\n",
        "le = preprocessing.LabelEncoder()\n",
        "# Encode labels in column 'Emotion'. \n",
        "df['Emotion'] = le.fit_transform(df['Emotion']) \n",
        "y = df.pop('Emotion')\n",
        "y_new = tf.keras.utils.to_categorical(y, num_classes=7)\n",
        "print(y_new)"
      ]
    },
    {
      "cell_type": "code",
      "execution_count": null,
      "metadata": {
        "colab": {
          "base_uri": "https://localhost:8080/"
        },
        "id": "cTI69uNTZZwt",
        "outputId": "7053ad5a-5f19-4fb5-ddab-433ce67d429e"
      },
      "outputs": [
        {
          "data": {
            "text/plain": [
              "['anger', 'disgust', 'fear', 'joy', 'neutral', 'sadness', 'surprise']"
            ]
          },
          "execution_count": 8,
          "metadata": {},
          "output_type": "execute_result"
        }
      ],
      "source": [
        "list(le.inverse_transform([0,1,2,3,4,5,6]))"
      ]
    },
    {
      "cell_type": "code",
      "execution_count": null,
      "metadata": {
        "colab": {
          "base_uri": "https://localhost:8080/"
        },
        "id": "okgIEkeoaFwN",
        "outputId": "98bbc271-913e-4a40-cf23-d131dfa0daed"
      },
      "outputs": [
        {
          "data": {
            "text/plain": [
              "3    15193\n",
              "4     6436\n",
              "6     3459\n",
              "0     2629\n",
              "5     2152\n",
              "1      714\n",
              "2      532\n",
              "Name: Emotion, dtype: int64"
            ]
          },
          "execution_count": 9,
          "metadata": {},
          "output_type": "execute_result"
        }
      ],
      "source": [
        "y.value_counts()"
      ]
    },
    {
      "cell_type": "code",
      "execution_count": null,
      "metadata": {
        "id": "WL7e81KrZYVc"
      },
      "outputs": [],
      "source": [
        "# 2 options to handle imbalanced dataset: class_weight or focal loss\n",
        "class_weight = {0: 6, 1: 22, 2: 30, 3: 1, 4: 2, 5: 7, 6: 5}"
      ]
    },
    {
      "cell_type": "code",
      "execution_count": null,
      "metadata": {
        "id": "WbPsaJZ6w4iz"
      },
      "outputs": [],
      "source": [
        "from tensorflow.keras import activations\n",
        "\n",
        "def focal_loss(gamma=2., alpha=4., from_logits=False):\n",
        "\n",
        "    gamma = float(gamma)\n",
        "    alpha = float(alpha)\n",
        "\n",
        "    def focal_loss_fixed(y_true, y_pred):\n",
        "        \"\"\"Focal loss for multi-classification\n",
        "        FL(p_t)=-alpha(1-p_t)^{gamma}ln(p_t)\n",
        "        Notice: y_pred is probability after softmax if from_logits is False.\n",
        "        gradient is d(Fl)/d(p_t) not d(Fl)/d(x) as described in paper\n",
        "        d(Fl)/d(p_t) * [p_t(1-p_t)] = d(Fl)/d(x)\n",
        "        Focal Loss for Dense Object Detection\n",
        "        https://arxiv.org/abs/1708.02002\n",
        "\n",
        "        Arguments:\n",
        "            y_true {tensor} -- ground truth labels, shape of [batch_size, num_cls]\n",
        "            y_pred {tensor} -- model's output, shape of [batch_size, num_cls]\n",
        "\n",
        "        Keyword Arguments:\n",
        "            gamma {float} -- (default: {2.0})\n",
        "            alpha {float} -- (default: {4.0})\n",
        "\n",
        "        Returns:\n",
        "            [tensor] -- loss.\n",
        "        \"\"\"\n",
        "        epsilon = 1.e-9\n",
        "        y_true = tf.cast(y_true, dtype=tf.float32)\n",
        "        y_pred = tf.cast(y_pred, dtype=tf.float32)\n",
        "        if from_logits:\n",
        "            y_pred = activations.softmax(y_pred)\n",
        "\n",
        "        model_out = tf.add(y_pred, epsilon)\n",
        "        ce = tf.multiply(y_true, -tf.math.log(model_out))\n",
        "        weight = tf.multiply(y_true, tf.pow(tf.subtract(1., model_out), gamma))\n",
        "        fl = tf.multiply(alpha, tf.multiply(weight, ce))\n",
        "        reduced_fl = tf.reduce_max(fl, axis=1)\n",
        "        return tf.reduce_mean(reduced_fl)\n",
        "    return focal_loss_fixed\n"
      ]
    },
    {
      "cell_type": "code",
      "execution_count": null,
      "metadata": {
        "id": "VFAWap_3stM3"
      },
      "outputs": [],
      "source": [
        "from sklearn.model_selection import train_test_split\n",
        "\n",
        "x_train, x_test, y_train, y_test = train_test_split(X, y_new, test_size=0.05, stratify=y_new)\n",
        "\n",
        "x_val = x_train[:100]\n",
        "y_val = y_train[:100]\n",
        "x_train = x_train[100:]\n",
        "y_train = y_train[100:]"
      ]
    },
    {
      "cell_type": "code",
      "execution_count": null,
      "metadata": {
        "colab": {
          "base_uri": "https://localhost:8080/"
        },
        "id": "cGNAoFeBsvx0",
        "outputId": "c46efdc3-d7ac-487e-865e-415dd9e5e4f3"
      },
      "outputs": [
        {
          "name": "stdout",
          "output_type": "stream",
          "text": [
            "Model: \"model_1\"\n",
            "__________________________________________________________________________________________________\n",
            "Layer (type)                    Output Shape         Param #     Connected to                     \n",
            "==================================================================================================\n",
            "input_2 (InputLayer)            [(None, 231)]        0                                            \n",
            "__________________________________________________________________________________________________\n",
            "embedding_1 (Embedding)         (None, 231, 300)     3194400     input_2[0][0]                    \n",
            "__________________________________________________________________________________________________\n",
            "bidirectional_1 (Bidirectional) (None, 231, 64)      85248       embedding_1[0][0]                \n",
            "__________________________________________________________________________________________________\n",
            "global_max_pooling1d_1 (GlobalM (None, 64)           0           bidirectional_1[0][0]            \n",
            "__________________________________________________________________________________________________\n",
            "global_average_pooling1d_1 (Glo (None, 64)           0           bidirectional_1[0][0]            \n",
            "__________________________________________________________________________________________________\n",
            "concatenate_1 (Concatenate)     (None, 128)          0           global_max_pooling1d_1[0][0]     \n",
            "                                                                 global_average_pooling1d_1[0][0] \n",
            "__________________________________________________________________________________________________\n",
            "dense_2 (Dense)                 (None, 64)           8256        concatenate_1[0][0]              \n",
            "__________________________________________________________________________________________________\n",
            "dense_3 (Dense)                 (None, 7)            455         dense_2[0][0]                    \n",
            "==================================================================================================\n",
            "Total params: 3,288,359\n",
            "Trainable params: 93,959\n",
            "Non-trainable params: 3,194,400\n",
            "__________________________________________________________________________________________________\n"
          ]
        }
      ],
      "source": [
        "callback = EarlyStopping(monitor='val_loss', patience=3)\n",
        "input_layer = Input(shape=(max_length), )\n",
        "x = Embedding(vocab_size, 300, weights=[embedding_matrix], trainable=False)(input_layer)\n",
        "x = Bidirectional(LSTM(32, return_sequences=True))(x)\n",
        "x_a = GlobalMaxPool1D()(x)\n",
        "x_b = GlobalAveragePooling1D()(x)\n",
        "x = concatenate([x_a,x_b])\n",
        "x = Dense(64, activation=\"relu\")(x)\n",
        "x = Dense(7, activation='softmax')(x)\n",
        "model_ft = Model(inputs=input_layer, outputs=x)\n",
        "model_ft.compile(loss=focal_loss(alpha=1), optimizer='adam', metrics=['accuracy']) #use if you are using focal loss\n",
        "#model_ft.compile(loss='categorical_crossentropy', optimizer='adam', metrics=['accuracy']) #use if you are using class_weight\n",
        "model_ft.summary()"
      ]
    },
    {
      "cell_type": "code",
      "execution_count": null,
      "metadata": {},
      "outputs": [],
      "source": [
        "from tensorflow.keras.utils import plot_model\n",
        "plot_model(model_ft,show_shapes= True)"
      ]
    },
    {
      "cell_type": "code",
      "execution_count": null,
      "metadata": {
        "colab": {
          "base_uri": "https://localhost:8080/"
        },
        "id": "5l4pWCsOsyqK",
        "outputId": "19c18418-9fa3-4880-c507-c2cec3678994"
      },
      "outputs": [
        {
          "name": "stdout",
          "output_type": "stream",
          "text": [
            "Epoch 1/20\n",
            "921/921 [==============================] - 89s 81ms/step - loss: 0.7916 - accuracy: 0.5540 - val_loss: 0.8233 - val_accuracy: 0.5500\n",
            "Epoch 2/20\n",
            "921/921 [==============================] - 74s 80ms/step - loss: 0.6654 - accuracy: 0.6171 - val_loss: 0.7998 - val_accuracy: 0.5600\n",
            "Epoch 3/20\n",
            "921/921 [==============================] - 74s 81ms/step - loss: 0.6212 - accuracy: 0.6375 - val_loss: 0.7716 - val_accuracy: 0.5800\n",
            "Epoch 4/20\n",
            "921/921 [==============================] - 74s 80ms/step - loss: 0.5900 - accuracy: 0.6520 - val_loss: 0.7609 - val_accuracy: 0.5900\n",
            "Epoch 5/20\n",
            "921/921 [==============================] - 74s 80ms/step - loss: 0.5635 - accuracy: 0.6658 - val_loss: 0.7605 - val_accuracy: 0.6000\n",
            "Epoch 6/20\n",
            "921/921 [==============================] - 74s 80ms/step - loss: 0.5411 - accuracy: 0.6734 - val_loss: 0.7044 - val_accuracy: 0.6300\n",
            "Epoch 7/20\n",
            "921/921 [==============================] - 74s 81ms/step - loss: 0.5194 - accuracy: 0.6826 - val_loss: 0.7249 - val_accuracy: 0.6000\n",
            "Epoch 8/20\n",
            "921/921 [==============================] - 74s 80ms/step - loss: 0.4978 - accuracy: 0.6933 - val_loss: 0.7386 - val_accuracy: 0.6100\n",
            "Epoch 9/20\n",
            "921/921 [==============================] - 74s 80ms/step - loss: 0.4779 - accuracy: 0.7010 - val_loss: 0.7248 - val_accuracy: 0.6300\n",
            "Epoch 10/20\n",
            "921/921 [==============================] - 74s 80ms/step - loss: 0.4594 - accuracy: 0.7088 - val_loss: 0.7604 - val_accuracy: 0.6100\n",
            "Epoch 11/20\n",
            "921/921 [==============================] - 74s 80ms/step - loss: 0.4399 - accuracy: 0.7191 - val_loss: 0.7562 - val_accuracy: 0.6200\n",
            "Epoch 12/20\n",
            "921/921 [==============================] - 74s 80ms/step - loss: 0.4220 - accuracy: 0.7252 - val_loss: 0.7932 - val_accuracy: 0.5600\n",
            "Epoch 13/20\n",
            "921/921 [==============================] - 74s 80ms/step - loss: 0.4037 - accuracy: 0.7355 - val_loss: 0.8125 - val_accuracy: 0.6200\n",
            "Epoch 14/20\n",
            "921/921 [==============================] - 74s 80ms/step - loss: 0.3873 - accuracy: 0.7430 - val_loss: 0.8580 - val_accuracy: 0.6300\n",
            "Epoch 15/20\n",
            "921/921 [==============================] - 74s 80ms/step - loss: 0.3727 - accuracy: 0.7486 - val_loss: 0.8655 - val_accuracy: 0.6400\n",
            "Epoch 16/20\n",
            "921/921 [==============================] - 74s 81ms/step - loss: 0.3589 - accuracy: 0.7568 - val_loss: 0.8757 - val_accuracy: 0.6500\n",
            "Epoch 17/20\n",
            "921/921 [==============================] - 74s 81ms/step - loss: 0.3422 - accuracy: 0.7646 - val_loss: 0.9004 - val_accuracy: 0.5600\n",
            "Epoch 18/20\n",
            "921/921 [==============================] - 74s 80ms/step - loss: 0.3265 - accuracy: 0.7719 - val_loss: 0.9568 - val_accuracy: 0.5700\n",
            "Epoch 19/20\n",
            "921/921 [==============================] - 74s 80ms/step - loss: 0.3131 - accuracy: 0.7776 - val_loss: 0.9444 - val_accuracy: 0.5900\n",
            "Epoch 20/20\n",
            "921/921 [==============================] - 74s 80ms/step - loss: 0.2987 - accuracy: 0.7849 - val_loss: 0.9634 - val_accuracy: 0.6000\n"
          ]
        },
        {
          "data": {
            "text/plain": [
              "<keras.callbacks.History at 0x7f67727718d0>"
            ]
          },
          "execution_count": 14,
          "metadata": {},
          "output_type": "execute_result"
        }
      ],
      "source": [
        "model_ft.fit(x_train, y_train, epochs = 20, validation_data=(x_val, y_val), callbacks=[callback]) #insert class_weight=class_weight if using class_weight"
      ]
    },
    {
      "cell_type": "code",
      "execution_count": null,
      "metadata": {
        "id": "5RO1957cs1w_"
      },
      "outputs": [],
      "source": [
        "y_pred = model_ft.predict(x_test)"
      ]
    },
    {
      "cell_type": "code",
      "execution_count": null,
      "metadata": {
        "id": "BZUHvz49s2eT"
      },
      "outputs": [],
      "source": [
        "y_pred = np.argmax(y_pred, 1)\n",
        "y_test = np.argmax(y_test, 1)"
      ]
    },
    {
      "cell_type": "code",
      "execution_count": null,
      "metadata": {
        "colab": {
          "base_uri": "https://localhost:8080/"
        },
        "id": "HTxRs7_5s7Ef",
        "outputId": "570eb29c-c249-44a9-c58c-700a08e76e6c"
      },
      "outputs": [
        {
          "name": "stdout",
          "output_type": "stream",
          "text": [
            "              precision    recall  f1-score   support\n",
            "\n",
            "           0       0.40      0.29      0.33       131\n",
            "           1       0.33      0.14      0.20        36\n",
            "           2       0.50      0.19      0.28        26\n",
            "           3       0.81      0.84      0.83       760\n",
            "           4       0.52      0.65      0.58       322\n",
            "           5       0.54      0.45      0.49       108\n",
            "           6       0.58      0.53      0.56       173\n",
            "\n",
            "    accuracy                           0.67      1556\n",
            "   macro avg       0.53      0.44      0.47      1556\n",
            "weighted avg       0.66      0.67      0.66      1556\n",
            "\n"
          ]
        }
      ],
      "source": [
        "print(classification_report(y_test, y_pred))"
      ]
    }
  ],
  "metadata": {
    "accelerator": "GPU",
    "colab": {
      "collapsed_sections": [],
      "name": "BiLSTM-Fasttext.ipynb",
      "provenance": []
    },
    "kernelspec": {
      "display_name": "Python 3",
      "name": "python3"
    },
    "language_info": {
      "name": "python"
    }
  },
  "nbformat": 4,
  "nbformat_minor": 2
}
