{
  "nbformat": 4,
  "nbformat_minor": 0,
  "metadata": {
    "colab": {
      "name": "NRCLexicon.ipynb",
      "provenance": [],
      "collapsed_sections": []
    },
    "kernelspec": {
      "name": "python3",
      "display_name": "Python 3"
    },
    "language_info": {
      "name": "python"
    }
  },
  "cells": [
    {
      "cell_type": "code",
      "metadata": {
        "colab": {
          "base_uri": "https://localhost:8080/",
          "height": 203
        },
        "id": "noXCOcRhnd3D",
        "outputId": "ca32aa5b-9085-444c-8a60-b6478cdf3d22"
      },
      "source": [
        "import pandas as pd\n",
        "\n",
        "# df = pd.read_csv('/content/drive/MyDrive/Isear.csv')\n",
        "# df = df[['Emotion','Statement']]\n",
        "# display(df.head())\n",
        "\n",
        "df = pd.read_csv('/content/drive/MyDrive/meld_dd.csv')\n",
        "df = df[['Emotion','Statement']]\n",
        "display(df.head())"
      ],
      "execution_count": 1,
      "outputs": [
        {
          "output_type": "display_data",
          "data": {
            "text/html": [
              "<div>\n",
              "<style scoped>\n",
              "    .dataframe tbody tr th:only-of-type {\n",
              "        vertical-align: middle;\n",
              "    }\n",
              "\n",
              "    .dataframe tbody tr th {\n",
              "        vertical-align: top;\n",
              "    }\n",
              "\n",
              "    .dataframe thead th {\n",
              "        text-align: right;\n",
              "    }\n",
              "</style>\n",
              "<table border=\"1\" class=\"dataframe\">\n",
              "  <thead>\n",
              "    <tr style=\"text-align: right;\">\n",
              "      <th></th>\n",
              "      <th>Emotion</th>\n",
              "      <th>Statement</th>\n",
              "    </tr>\n",
              "  </thead>\n",
              "  <tbody>\n",
              "    <tr>\n",
              "      <th>0</th>\n",
              "      <td>joy</td>\n",
              "      <td>Thank you , Steven . I accept your advice .</td>\n",
              "    </tr>\n",
              "    <tr>\n",
              "      <th>1</th>\n",
              "      <td>surprise</td>\n",
              "      <td>Oh my God, I can't believe I have two-two chil...</td>\n",
              "    </tr>\n",
              "    <tr>\n",
              "      <th>2</th>\n",
              "      <td>neutral</td>\n",
              "      <td>Look, it's not that big of a deal, so Monica a...</td>\n",
              "    </tr>\n",
              "    <tr>\n",
              "      <th>3</th>\n",
              "      <td>anger</td>\n",
              "      <td>And I wanna know why?!!</td>\n",
              "    </tr>\n",
              "    <tr>\n",
              "      <th>4</th>\n",
              "      <td>joy</td>\n",
              "      <td>And, ah, you know, your fooling around with her.</td>\n",
              "    </tr>\n",
              "  </tbody>\n",
              "</table>\n",
              "</div>"
            ],
            "text/plain": [
              "    Emotion                                          Statement\n",
              "0       joy       Thank you , Steven . I accept your advice . \n",
              "1  surprise  Oh my God, I can't believe I have two-two chil...\n",
              "2   neutral  Look, it's not that big of a deal, so Monica a...\n",
              "3     anger                            And I wanna know why?!!\n",
              "4       joy   And, ah, you know, your fooling around with her."
            ]
          },
          "metadata": {}
        }
      ]
    },
    {
      "cell_type": "code",
      "metadata": {
        "colab": {
          "base_uri": "https://localhost:8080/"
        },
        "id": "Jopxzvq7n4Kn",
        "outputId": "61e1a662-e587-4306-b7a6-b1a9c3dd5abd"
      },
      "source": [
        "!pip install nrclex"
      ],
      "execution_count": 2,
      "outputs": [
        {
          "output_type": "stream",
          "name": "stdout",
          "text": [
            "Requirement already satisfied: nrclex in /usr/local/lib/python3.7/dist-packages (3.0.0)\n",
            "Requirement already satisfied: textblob in /usr/local/lib/python3.7/dist-packages (from nrclex) (0.15.3)\n",
            "Requirement already satisfied: nltk>=3.1 in /usr/local/lib/python3.7/dist-packages (from textblob->nrclex) (3.2.5)\n",
            "Requirement already satisfied: six in /usr/local/lib/python3.7/dist-packages (from nltk>=3.1->textblob->nrclex) (1.15.0)\n"
          ]
        }
      ]
    },
    {
      "cell_type": "code",
      "metadata": {
        "colab": {
          "base_uri": "https://localhost:8080/"
        },
        "id": "SotfsG3CowsQ",
        "outputId": "8a07a73a-7247-4c19-8d63-998923d9acf8"
      },
      "source": [
        "from nrclex import NRCLex\n",
        "import nltk\n",
        "nltk.download('punkt')"
      ],
      "execution_count": 3,
      "outputs": [
        {
          "output_type": "stream",
          "name": "stdout",
          "text": [
            "[nltk_data] Downloading package punkt to /root/nltk_data...\n",
            "[nltk_data]   Package punkt is already up-to-date!\n"
          ]
        },
        {
          "output_type": "execute_result",
          "data": {
            "text/plain": [
              "True"
            ]
          },
          "metadata": {},
          "execution_count": 3
        }
      ]
    },
    {
      "cell_type": "code",
      "metadata": {
        "id": "HnDCYB_csnAz"
      },
      "source": [
        "df['NRCEmotions'] = [NRCLex(x).top_emotions for x in df['Statement']]"
      ],
      "execution_count": 4,
      "outputs": []
    },
    {
      "cell_type": "code",
      "metadata": {
        "colab": {
          "base_uri": "https://localhost:8080/",
          "height": 203
        },
        "id": "j9E0Vs5HtCEu",
        "outputId": "749632fa-6332-4b9e-b687-2d7340d9a2d5"
      },
      "source": [
        "df.head()"
      ],
      "execution_count": 5,
      "outputs": [
        {
          "output_type": "execute_result",
          "data": {
            "text/html": [
              "<div>\n",
              "<style scoped>\n",
              "    .dataframe tbody tr th:only-of-type {\n",
              "        vertical-align: middle;\n",
              "    }\n",
              "\n",
              "    .dataframe tbody tr th {\n",
              "        vertical-align: top;\n",
              "    }\n",
              "\n",
              "    .dataframe thead th {\n",
              "        text-align: right;\n",
              "    }\n",
              "</style>\n",
              "<table border=\"1\" class=\"dataframe\">\n",
              "  <thead>\n",
              "    <tr style=\"text-align: right;\">\n",
              "      <th></th>\n",
              "      <th>Emotion</th>\n",
              "      <th>Statement</th>\n",
              "      <th>NRCEmotions</th>\n",
              "    </tr>\n",
              "  </thead>\n",
              "  <tbody>\n",
              "    <tr>\n",
              "      <th>0</th>\n",
              "      <td>joy</td>\n",
              "      <td>Thank you , Steven . I accept your advice .</td>\n",
              "      <td>[(trust, 1.0)]</td>\n",
              "    </tr>\n",
              "    <tr>\n",
              "      <th>1</th>\n",
              "      <td>surprise</td>\n",
              "      <td>Oh my God, I can't believe I have two-two chil...</td>\n",
              "      <td>[(fear, 0.0), (anger, 0.0), (anticip, 0.0), (t...</td>\n",
              "    </tr>\n",
              "    <tr>\n",
              "      <th>2</th>\n",
              "      <td>neutral</td>\n",
              "      <td>Look, it's not that big of a deal, so Monica a...</td>\n",
              "      <td>[(trust, 0.2), (surprise, 0.2), (positive, 0.2...</td>\n",
              "    </tr>\n",
              "    <tr>\n",
              "      <th>3</th>\n",
              "      <td>anger</td>\n",
              "      <td>And I wanna know why?!!</td>\n",
              "      <td>[(fear, 0.3333333333333333), (negative, 0.3333...</td>\n",
              "    </tr>\n",
              "    <tr>\n",
              "      <th>4</th>\n",
              "      <td>joy</td>\n",
              "      <td>And, ah, you know, your fooling around with her.</td>\n",
              "      <td>[(fear, 0.0), (anger, 0.0), (anticip, 0.0), (t...</td>\n",
              "    </tr>\n",
              "  </tbody>\n",
              "</table>\n",
              "</div>"
            ],
            "text/plain": [
              "    Emotion  ...                                        NRCEmotions\n",
              "0       joy  ...                                     [(trust, 1.0)]\n",
              "1  surprise  ...  [(fear, 0.0), (anger, 0.0), (anticip, 0.0), (t...\n",
              "2   neutral  ...  [(trust, 0.2), (surprise, 0.2), (positive, 0.2...\n",
              "3     anger  ...  [(fear, 0.3333333333333333), (negative, 0.3333...\n",
              "4       joy  ...  [(fear, 0.0), (anger, 0.0), (anticip, 0.0), (t...\n",
              "\n",
              "[5 rows x 3 columns]"
            ]
          },
          "metadata": {},
          "execution_count": 5
        }
      ]
    }
  ]
}