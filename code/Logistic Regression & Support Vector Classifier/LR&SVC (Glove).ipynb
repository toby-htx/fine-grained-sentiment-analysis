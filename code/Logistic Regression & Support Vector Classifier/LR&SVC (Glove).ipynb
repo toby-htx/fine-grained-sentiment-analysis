{
  "cells": [
    {
      "cell_type": "code",
      "execution_count": null,
      "metadata": {
        "colab": {
          "base_uri": "https://localhost:8080/"
        },
        "id": "i5faAwM3oc4z",
        "outputId": "f9ce42f2-974d-4f4c-beb7-1c2a6a84f7e9"
      },
      "outputs": [],
      "source": [
        "!python -m spacy download en_vectors_web_lg"
      ]
    },
    {
      "cell_type": "code",
      "execution_count": null,
      "metadata": {
        "colab": {
          "base_uri": "https://localhost:8080/",
          "height": 203
        },
        "id": "qvLhkrhjotXL",
        "outputId": "a47d7c93-0aec-4c22-c9e0-e9b4f8d071be"
      },
      "outputs": [],
      "source": [
        "import pandas as pd\n",
        "\n",
        "df = pd.read_csv('LOCAL_PATH_TO_DATASET')\n",
        "df = df[['Emotion','Statement']]\n",
        "display(df.head())"
      ]
    },
    {
      "cell_type": "code",
      "execution_count": null,
      "metadata": {
        "id": "gYmm8x47byBF"
      },
      "outputs": [],
      "source": [
        "from sklearn.utils import class_weight\n",
        "import numpy as np\n",
        "\n",
        "class_weight = class_weight.compute_class_weight('balanced'\n",
        "                                               ,np.unique(df['Emotion'])\n",
        "                                               ,df['Emotion'])\n",
        "y = df.pop('Emotion')\n",
        "X = df"
      ]
    },
    {
      "cell_type": "code",
      "execution_count": null,
      "metadata": {
        "id": "mD8aKqLQoxsy"
      },
      "outputs": [],
      "source": [
        "def process_text(document):\n",
        "     \n",
        "    # Remove extra white space from text\n",
        "    document = re.sub(r'\\s+', ' ', document, flags=re.I)\n",
        "         \n",
        "    # Remove all the special characters from text\n",
        "    document = re.sub(r'\\W', ' ', str(document))\n",
        " \n",
        "    # Remove all single characters from text\n",
        "    document = re.sub(r'\\s+[a-zA-Z]\\s+', ' ', document)\n",
        " \n",
        "    # Converting to Lowercase\n",
        "    document = document.lower()\n",
        " \n",
        "    # Word tokenization       \n",
        "    tokens = document.split()\n",
        "      \n",
        "    lemma_txt = [stemmer.lemmatize(word) for word in tokens]\n",
        "    # Remove Drop words \n",
        "    lemma_no_stop_txt = [word for word in lemma_txt if word not in en_stop]\n",
        "        \n",
        "    tokens = [word for word in tokens if len(word) > 3]\n",
        "                 \n",
        "    clean_txt = ' '.join(lemma_no_stop_txt)\n",
        " \n",
        "    return clean_txt"
      ]
    },
    {
      "cell_type": "code",
      "execution_count": null,
      "metadata": {
        "colab": {
          "base_uri": "https://localhost:8080/"
        },
        "id": "fqjZ2lWCooT-",
        "outputId": "83603414-cf72-4f5c-8ca6-f8e9bb24adc3"
      },
      "outputs": [],
      "source": [
        "from tqdm import tqdm\n",
        "import numpy as np\n",
        "import nltk\n",
        "nltk.download('stopwords')\n",
        "en_stop = set(nltk.corpus.stopwords.words('english'))\n",
        "import re\n",
        "from nltk import WordNetLemmatizer\n",
        "stemmer = WordNetLemmatizer()\n",
        "\n",
        "nltk.download('wordnet')\n",
        "nltk.download('stopwords')  \n",
        "\n",
        "df['preprocessedStatement'] = df.Statement.apply(process_text)"
      ]
    },
    {
      "cell_type": "code",
      "execution_count": null,
      "metadata": {
        "colab": {
          "base_uri": "https://localhost:8080/"
        },
        "id": "IoyCx3hfihnz",
        "outputId": "fe06a384-64a0-4827-a9d6-f8f1099bb5bb"
      },
      "outputs": [],
      "source": [
        "clean_corpus = df.preprocessedStatement.tolist()\n",
        "clean_corpus[:5]"
      ]
    },
    {
      "cell_type": "code",
      "execution_count": null,
      "metadata": {
        "id": "jfbJgf7VpSD-"
      },
      "outputs": [],
      "source": [
        "import en_vectors_web_lg\n",
        "nlp = en_vectors_web_lg.load()  "
      ]
    },
    {
      "cell_type": "code",
      "execution_count": null,
      "metadata": {
        "colab": {
          "base_uri": "https://localhost:8080/"
        },
        "id": "RYG8IyxvppSM",
        "outputId": "294c1a95-7778-49c4-c86f-ab51b8d43455"
      },
      "outputs": [],
      "source": [
        "document = nlp.pipe(token for token in clean_corpus)\n",
        "vectors = np.array([word_tokens.vector for word_tokens in document])\n",
        "print(vectors.shape)"
      ]
    },
    {
      "cell_type": "code",
      "execution_count": null,
      "metadata": {
        "colab": {
          "base_uri": "https://localhost:8080/"
        },
        "id": "zTGyiq4st2F-",
        "outputId": "5d395c01-f6d7-4dbb-c5f5-3765b7ada0a1"
      },
      "outputs": [],
      "source": [
        "from sklearn.model_selection import train_test_split\n",
        "from sklearn import preprocessing\n",
        "\n",
        "X_train,X_test, y_train, y_test = train_test_split(vectors,y, stratify=y, test_size=0.05, random_state=0)\n",
        "\n",
        "# label encode the target variable \n",
        "encoder = preprocessing.LabelEncoder()\n",
        "y_train = encoder.fit_transform(y_train)\n",
        "y_test = encoder.fit_transform(y_test)"
      ]
    },
    {
      "cell_type": "code",
      "execution_count": null,
      "metadata": {},
      "outputs": [],
      "source": [
        "from sklearn.linear_model import LogisticRegression\n",
        "from sklearn.metrics import classification_report\n",
        "\n",
        "model_lr = LogisticRegression(multi_class='ovr', max_iter=1000) #Insert class_weight = class_weight if training on Meld-dd dataset\n",
        "model_lr.fit(X_train, y_train)\n",
        "\n",
        "y_pred_lr = model_lr.predict(X_test)\n",
        "\n",
        "print(classification_report(y_test, y_pred_lr))"
      ]
    },
    {
      "cell_type": "code",
      "execution_count": null,
      "metadata": {
        "colab": {
          "base_uri": "https://localhost:8080/"
        },
        "id": "QMqtOqg4yk1N",
        "outputId": "00bc546f-389a-4df8-cfa8-bc34cf152eb8"
      },
      "outputs": [],
      "source": [
        "from sklearn.multiclass import OneVsRestClassifier\n",
        "\n",
        "model_lr2 = LogisticRegression(max_iter=1000) #Insert class_weight = class_weight if training on Meld-dd dataset\n",
        "\n",
        "model_lr2 = OneVsRestClassifier(model_lr2)\n",
        "\n",
        "model_lr2.fit(X_train, y_train)\n",
        "\n",
        "y_pred_lr2 = model_lr2.predict(X_test)\n",
        "\n",
        "print(classification_report(y_test, y_pred_lr2))"
      ]
    },
    {
      "cell_type": "code",
      "execution_count": null,
      "metadata": {
        "colab": {
          "base_uri": "https://localhost:8080/"
        },
        "id": "9eiqftwSz9Es",
        "outputId": "7273eb19-8779-4908-a379-513e5ac29919"
      },
      "outputs": [],
      "source": [
        "from sklearn.svm import SVC\n",
        "\n",
        "model_svm = SVC(decision_function_shape='ovo') #insert class_weight = 'balanced' if training on Meld-dd dataset\n",
        "model_svm.fit(X_train, y_train)\n",
        "\n",
        "y_pred_svm = model_svm.predict(X_test)\n",
        "\n",
        "print(classification_report(y_test, y_pred_svm))"
      ]
    },
    {
      "cell_type": "code",
      "execution_count": null,
      "metadata": {
        "colab": {
          "base_uri": "https://localhost:8080/"
        },
        "id": "9hkL07Fz0gzX",
        "outputId": "d8877985-ace1-4298-a7bf-071b93a08238"
      },
      "outputs": [],
      "source": [
        "from sklearn.multiclass import OneVsOneClassifier\n",
        "\n",
        "model_svm2 = SVC() #insert class_weight = 'balanced' if training on Meld-dd dataset\n",
        "\n",
        "model_svm2 = OneVsOneClassifier(model_svm2)\n",
        "\n",
        "model_svm2.fit(X_train, y_train)\n",
        "  \n",
        "y_pred_svm2 = model_svm2.predict(X_test) \n",
        "\n",
        "print(classification_report(y_test, y_pred_svm2))"
      ]
    },
    {
      "cell_type": "code",
      "execution_count": null,
      "metadata": {
        "colab": {
          "base_uri": "https://localhost:8080/"
        },
        "id": "GIJenp4Fsnin",
        "outputId": "33082f9a-bbd6-4f51-b23d-a4e588992ccf"
      },
      "outputs": [],
      "source": [
        "list(encoder.inverse_transform([0,1,2,3,4,5,6]))"
      ]
    }
  ],
  "metadata": {
    "colab": {
      "collapsed_sections": [],
      "name": "Strategy1-Glove.ipynb",
      "provenance": []
    },
    "kernelspec": {
      "display_name": "Python 3",
      "name": "python3"
    },
    "language_info": {
      "name": "python"
    }
  },
  "nbformat": 4,
  "nbformat_minor": 0
}
