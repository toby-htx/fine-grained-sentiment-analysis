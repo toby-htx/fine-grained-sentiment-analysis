{
  "cells": [
    {
      "cell_type": "code",
      "execution_count": null,
      "metadata": {
        "id": "_Oph82yqm1h9"
      },
      "outputs": [],
      "source": [
        "#Model architecture inspired by Y. Kim, \"Convolutional Neural Networks for Sentence Classification\", 2014\n",
        "import numpy as np\n",
        "import pandas as pd\n",
        "\n",
        "from sklearn.model_selection import train_test_split\n",
        "from sklearn.metrics import classification_report\n",
        "\n",
        "import re\n",
        "import nltk\n",
        "from nltk.corpus import stopwords\n",
        "\n",
        "from keras.preprocessing.text import Tokenizer\n",
        "from keras.preprocessing.sequence import pad_sequences\n",
        "from keras.models import Sequential\n",
        "from keras.callbacks import EarlyStopping\n",
        "from keras.layers import Dense, Conv1D, GlobalMaxPooling1D, Flatten\n",
        "from keras.layers.embeddings import Embedding"
      ]
    },
    {
      "cell_type": "code",
      "execution_count": null,
      "metadata": {
        "colab": {
          "base_uri": "https://localhost:8080/"
        },
        "id": "eDdX5ad6nT5I",
        "outputId": "78f398cd-cc38-49d6-ad2d-185a5dbd39ef"
      },
      "outputs": [
        {
          "name": "stdout",
          "output_type": "stream",
          "text": [
            "Found 400000 word vectors.\n"
          ]
        }
      ],
      "source": [
        "# Get glove.6B.300d.txt beforehand\n",
        "\n",
        "embeddings_index = {}\n",
        "with open(\"LOCAL_PATH_TO_glove.6B.300d.txt\") as f:\n",
        "    for line in f:\n",
        "        word, coefs = line.split(maxsplit=1)\n",
        "        coefs = np.fromstring(coefs, \"f\", sep=\" \")\n",
        "        embeddings_index[word] = coefs\n",
        "\n",
        "print(\"Found %s word vectors.\" % len(embeddings_index))"
      ]
    },
    {
      "cell_type": "code",
      "execution_count": null,
      "metadata": {
        "colab": {
          "base_uri": "https://localhost:8080/",
          "height": 203
        },
        "id": "hYxQHsYinfse",
        "outputId": "e52d6e73-3992-4b42-cae0-6b9a47c06c0f"
      },
      "outputs": [
        {
          "data": {
            "text/html": [
              "<div>\n",
              "<style scoped>\n",
              "    .dataframe tbody tr th:only-of-type {\n",
              "        vertical-align: middle;\n",
              "    }\n",
              "\n",
              "    .dataframe tbody tr th {\n",
              "        vertical-align: top;\n",
              "    }\n",
              "\n",
              "    .dataframe thead th {\n",
              "        text-align: right;\n",
              "    }\n",
              "</style>\n",
              "<table border=\"1\" class=\"dataframe\">\n",
              "  <thead>\n",
              "    <tr style=\"text-align: right;\">\n",
              "      <th></th>\n",
              "      <th>Emotion</th>\n",
              "      <th>Statement</th>\n",
              "    </tr>\n",
              "  </thead>\n",
              "  <tbody>\n",
              "    <tr>\n",
              "      <th>0</th>\n",
              "      <td>guilt</td>\n",
              "      <td>Once when I was in the cell group (religious a...</td>\n",
              "    </tr>\n",
              "    <tr>\n",
              "      <th>1</th>\n",
              "      <td>shame</td>\n",
              "      <td>When I overslept for the second time on the da...</td>\n",
              "    </tr>\n",
              "    <tr>\n",
              "      <th>2</th>\n",
              "      <td>shame</td>\n",
              "      <td>I had not punched a ticket in the bus because ...</td>\n",
              "    </tr>\n",
              "    <tr>\n",
              "      <th>3</th>\n",
              "      <td>disgust</td>\n",
              "      <td>When a man spoke very sexistly in the company ...</td>\n",
              "    </tr>\n",
              "    <tr>\n",
              "      <th>4</th>\n",
              "      <td>shame</td>\n",
              "      <td>About a dozen girls laughed at me and I was su...</td>\n",
              "    </tr>\n",
              "  </tbody>\n",
              "</table>\n",
              "</div>"
            ],
            "text/plain": [
              "   Emotion                                          Statement\n",
              "0    guilt  Once when I was in the cell group (religious a...\n",
              "1    shame  When I overslept for the second time on the da...\n",
              "2    shame  I had not punched a ticket in the bus because ...\n",
              "3  disgust  When a man spoke very sexistly in the company ...\n",
              "4    shame  About a dozen girls laughed at me and I was su..."
            ]
          },
          "metadata": {},
          "output_type": "display_data"
        }
      ],
      "source": [
        "df = pd.read_csv('LOCAL_PATH_TO_DATASET')\n",
        "df = df[['Emotion','Statement']]\n",
        "display(df.head())"
      ]
    },
    {
      "cell_type": "code",
      "execution_count": null,
      "metadata": {
        "id": "lL0hToB0ngJu"
      },
      "outputs": [],
      "source": [
        "def process_text(document):\n",
        "     \n",
        "    # Remove extra white space from text\n",
        "    document = re.sub(r'\\s+', ' ', document, flags=re.I)\n",
        "         \n",
        "    # Remove all the special characters from text\n",
        "    document = re.sub(r'\\W', ' ', str(document))\n",
        " \n",
        "    # Remove all single characters from text\n",
        "    document = re.sub(r'\\s+[a-zA-Z]\\s+', ' ', document)\n",
        " \n",
        "    # Converting to Lowercase\n",
        "    document = document.lower()\n",
        " \n",
        "    # Word tokenization       \n",
        "    tokens = document.split()\n",
        "\n",
        "    tokens = [token for token in tokens if token not in en_stop]\n",
        "                 \n",
        "    clean_txt = ' '.join(tokens)\n",
        " \n",
        "    return clean_txt"
      ]
    },
    {
      "cell_type": "code",
      "execution_count": null,
      "metadata": {
        "colab": {
          "base_uri": "https://localhost:8080/",
          "height": 270
        },
        "id": "am2KLIconjnd",
        "outputId": "b16fcec1-3cc4-45b0-b24d-c2246189bbfe"
      },
      "outputs": [
        {
          "name": "stdout",
          "output_type": "stream",
          "text": [
            "[nltk_data] Downloading package stopwords to /root/nltk_data...\n",
            "[nltk_data]   Unzipping corpora/stopwords.zip.\n",
            "[nltk_data] Downloading package wordnet to /root/nltk_data...\n",
            "[nltk_data]   Unzipping corpora/wordnet.zip.\n"
          ]
        },
        {
          "data": {
            "text/html": [
              "<div>\n",
              "<style scoped>\n",
              "    .dataframe tbody tr th:only-of-type {\n",
              "        vertical-align: middle;\n",
              "    }\n",
              "\n",
              "    .dataframe tbody tr th {\n",
              "        vertical-align: top;\n",
              "    }\n",
              "\n",
              "    .dataframe thead th {\n",
              "        text-align: right;\n",
              "    }\n",
              "</style>\n",
              "<table border=\"1\" class=\"dataframe\">\n",
              "  <thead>\n",
              "    <tr style=\"text-align: right;\">\n",
              "      <th></th>\n",
              "      <th>Emotion</th>\n",
              "      <th>Statement</th>\n",
              "      <th>preprocessedStatement</th>\n",
              "    </tr>\n",
              "  </thead>\n",
              "  <tbody>\n",
              "    <tr>\n",
              "      <th>0</th>\n",
              "      <td>guilt</td>\n",
              "      <td>Once when I was in the cell group (religious a...</td>\n",
              "      <td>cell group religious activity found almost eve...</td>\n",
              "    </tr>\n",
              "    <tr>\n",
              "      <th>1</th>\n",
              "      <td>shame</td>\n",
              "      <td>When I overslept for the second time on the da...</td>\n",
              "      <td>overslept second time day examination</td>\n",
              "    </tr>\n",
              "    <tr>\n",
              "      <th>2</th>\n",
              "      <td>shame</td>\n",
              "      <td>I had not punched a ticket in the bus because ...</td>\n",
              "      <td>punched ticket bus card ticket collector came ...</td>\n",
              "    </tr>\n",
              "    <tr>\n",
              "      <th>3</th>\n",
              "      <td>disgust</td>\n",
              "      <td>When a man spoke very sexistly in the company ...</td>\n",
              "      <td>man spoke sexistly company friends mine</td>\n",
              "    </tr>\n",
              "    <tr>\n",
              "      <th>4</th>\n",
              "      <td>shame</td>\n",
              "      <td>About a dozen girls laughed at me and I was su...</td>\n",
              "      <td>dozen girls laughed sure nothing wrong</td>\n",
              "    </tr>\n",
              "  </tbody>\n",
              "</table>\n",
              "</div>"
            ],
            "text/plain": [
              "   Emotion  ...                              preprocessedStatement\n",
              "0    guilt  ...  cell group religious activity found almost eve...\n",
              "1    shame  ...              overslept second time day examination\n",
              "2    shame  ...  punched ticket bus card ticket collector came ...\n",
              "3  disgust  ...            man spoke sexistly company friends mine\n",
              "4    shame  ...             dozen girls laughed sure nothing wrong\n",
              "\n",
              "[5 rows x 3 columns]"
            ]
          },
          "metadata": {},
          "output_type": "display_data"
        }
      ],
      "source": [
        "from tqdm import tqdm\n",
        "\n",
        "nltk.download('stopwords')\n",
        "# For sentence tokenization\n",
        "#nltk.download('punkt')\n",
        "en_stop = set(nltk.corpus.stopwords.words('english'))\n",
        "\n",
        "nltk.download('wordnet')\n",
        "df['preprocessedStatement'] = df.Statement.apply(process_text)\n",
        "display(df.head())"
      ]
    },
    {
      "cell_type": "code",
      "execution_count": null,
      "metadata": {
        "id": "n7-naQ51nloF"
      },
      "outputs": [],
      "source": [
        "max_length = df.preprocessedStatement.apply(lambda x: len(x.split())).max()\n",
        "\n",
        "t = Tokenizer()\n",
        "t.fit_on_texts(df['preprocessedStatement'] )\n",
        "vocab_size = len(t.word_index) + 1\n",
        "encoded_text = t.texts_to_sequences(df['preprocessedStatement'] )\n",
        "X = pad_sequences(encoded_text, maxlen=max_length, padding='post')"
      ]
    },
    {
      "cell_type": "code",
      "execution_count": null,
      "metadata": {
        "id": "BF9-owr1noC8"
      },
      "outputs": [],
      "source": [
        "embedding_matrix = np.zeros((vocab_size, 300))\n",
        "for word, i in t.word_index.items():\n",
        "    embedding_vector = embeddings_index.get(word)\n",
        "    if embedding_vector is not None:\n",
        "        embedding_matrix[i] = embedding_vector"
      ]
    },
    {
      "cell_type": "code",
      "execution_count": null,
      "metadata": {
        "colab": {
          "base_uri": "https://localhost:8080/"
        },
        "id": "NCqsAnRjnquK",
        "outputId": "e50f1fd0-3737-4a78-e777-80e3851d1637"
      },
      "outputs": [
        {
          "name": "stdout",
          "output_type": "stream",
          "text": [
            "[[0. 0. 0. ... 0. 0. 0.]\n",
            " [0. 0. 0. ... 0. 0. 1.]\n",
            " [0. 0. 0. ... 0. 0. 1.]\n",
            " ...\n",
            " [0. 0. 0. ... 1. 0. 0.]\n",
            " [0. 0. 0. ... 0. 0. 1.]\n",
            " [0. 0. 0. ... 0. 0. 1.]]\n"
          ]
        }
      ],
      "source": [
        "import tensorflow as tf\n",
        "\n",
        "from sklearn import preprocessing\n",
        "le = preprocessing.LabelEncoder()\n",
        "# Encode labels in column 'Emotion'. \n",
        "df['Emotion'] = le.fit_transform(df['Emotion']) \n",
        "y = df.pop('Emotion')\n",
        "y_new = tf.keras.utils.to_categorical(y, num_classes=7)\n",
        "print(y_new)"
      ]
    },
    {
      "cell_type": "code",
      "execution_count": null,
      "metadata": {
        "id": "eDAWHVKqns6d"
      },
      "outputs": [],
      "source": [
        "from sklearn.model_selection import train_test_split\n",
        "\n",
        "x_train, x_test, y_train, y_test = train_test_split(X, y_new, test_size=0.05, stratify=y_new)\n",
        "\n",
        "x_val = x_train[:100]\n",
        "y_val = y_train[:100]\n",
        "x_train = x_train[100:]\n",
        "y_train = y_train[100:]"
      ]
    },
    {
      "cell_type": "code",
      "execution_count": null,
      "metadata": {},
      "outputs": [],
      "source": [
        "from tensorflow.keras import activations\n",
        "\n",
        "def focal_loss(gamma=2., alpha=4., from_logits=False):\n",
        "\n",
        "    gamma = float(gamma)\n",
        "    alpha = float(alpha)\n",
        "\n",
        "    def focal_loss_fixed(y_true, y_pred):\n",
        "        \"\"\"Focal loss for multi-classification\n",
        "        FL(p_t)=-alpha(1-p_t)^{gamma}ln(p_t)\n",
        "        Notice: y_pred is probability after softmax if from_logits is False.\n",
        "        gradient is d(Fl)/d(p_t) not d(Fl)/d(x) as described in paper\n",
        "        d(Fl)/d(p_t) * [p_t(1-p_t)] = d(Fl)/d(x)\n",
        "        Focal Loss for Dense Object Detection\n",
        "        https://arxiv.org/abs/1708.02002\n",
        "\n",
        "        Arguments:\n",
        "            y_true {tensor} -- ground truth labels, shape of [batch_size, num_cls]\n",
        "            y_pred {tensor} -- model's output, shape of [batch_size, num_cls]\n",
        "\n",
        "        Keyword Arguments:\n",
        "            gamma {float} -- (default: {2.0})\n",
        "            alpha {float} -- (default: {4.0})\n",
        "\n",
        "        Returns:\n",
        "            [tensor] -- loss.\n",
        "        \"\"\"\n",
        "        epsilon = 1.e-9\n",
        "        y_true = tf.cast(y_true, dtype=tf.float32)\n",
        "        y_pred = tf.cast(y_pred, dtype=tf.float32)\n",
        "        if from_logits:\n",
        "            y_pred = activations.softmax(y_pred)\n",
        "\n",
        "        model_out = tf.add(y_pred, epsilon)\n",
        "        ce = tf.multiply(y_true, -tf.math.log(model_out))\n",
        "        weight = tf.multiply(y_true, tf.pow(tf.subtract(1., model_out), gamma))\n",
        "        fl = tf.multiply(alpha, tf.multiply(weight, ce))\n",
        "        reduced_fl = tf.reduce_max(fl, axis=1)\n",
        "        return tf.reduce_mean(reduced_fl)\n",
        "    return focal_loss_fixed\n"
      ]
    },
    {
      "cell_type": "code",
      "execution_count": null,
      "metadata": {
        "colab": {
          "base_uri": "https://localhost:8080/"
        },
        "id": "mkOiQGMjTVtq",
        "outputId": "871cba19-2946-4ee3-caac-24db03317a4a"
      },
      "outputs": [
        {
          "data": {
            "text/plain": [
              "['anger', 'disgust', 'fear', 'guilt', 'joy', 'sadness', 'shame']"
            ]
          },
          "execution_count": 10,
          "metadata": {},
          "output_type": "execute_result"
        }
      ],
      "source": [
        "list(le.inverse_transform([0,1,2,3,4,5,6]))"
      ]
    },
    {
      "cell_type": "code",
      "execution_count": null,
      "metadata": {
        "colab": {
          "base_uri": "https://localhost:8080/"
        },
        "id": "vAUcqbc8W_vU",
        "outputId": "d9173088-bf2c-4ebb-dfcb-a840060b1c62"
      },
      "outputs": [
        {
          "data": {
            "text/plain": [
              "4    1092\n",
              "5    1082\n",
              "0    1079\n",
              "2    1076\n",
              "6    1071\n",
              "1    1066\n",
              "3    1050\n",
              "Name: Emotion, dtype: int64"
            ]
          },
          "execution_count": 11,
          "metadata": {},
          "output_type": "execute_result"
        }
      ],
      "source": [
        "y.value_counts()"
      ]
    },
    {
      "cell_type": "code",
      "execution_count": null,
      "metadata": {
        "id": "oguvuquYWvgP"
      },
      "outputs": [],
      "source": [
        "# 2 options to handle imbalanced dataset: class_weight or focal loss\n",
        "class_weight = {0: 6, 1: 22, 2: 30, 3: 1, 4: 2, 5: 7, 6: 5}"
      ]
    },
    {
      "cell_type": "code",
      "execution_count": null,
      "metadata": {
        "colab": {
          "base_uri": "https://localhost:8080/"
        },
        "id": "wWFH3_11nu8-",
        "outputId": "eebb726a-5ce9-4766-dc62-894d1b1af50e"
      },
      "outputs": [
        {
          "name": "stdout",
          "output_type": "stream",
          "text": [
            "Model: \"sequential\"\n",
            "_________________________________________________________________\n",
            "Layer (type)                 Output Shape              Param #   \n",
            "=================================================================\n",
            "embedding (Embedding)        (None, 78, 300)           2651700   \n",
            "_________________________________________________________________\n",
            "conv1d (Conv1D)              (None, 74, 128)           192128    \n",
            "_________________________________________________________________\n",
            "global_max_pooling1d (Global (None, 128)               0         \n",
            "_________________________________________________________________\n",
            "dense (Dense)                (None, 64)                8256      \n",
            "_________________________________________________________________\n",
            "dense_1 (Dense)              (None, 7)                 455       \n",
            "=================================================================\n",
            "Total params: 2,852,539\n",
            "Trainable params: 200,839\n",
            "Non-trainable params: 2,651,700\n",
            "_________________________________________________________________\n"
          ]
        }
      ],
      "source": [
        "callback = EarlyStopping(monitor='val_loss', patience=3)\n",
        "model_glove = Sequential()\n",
        "model_glove.add(Embedding(vocab_size, 300, input_length=max_length, weights=[embedding_matrix], trainable=False))\n",
        "model_glove.add(Conv1D(128, 5, activation='relu'))\n",
        "model_glove.add(GlobalMaxPooling1D())\n",
        "model_glove.add(Flatten())\n",
        "model_glove.add(Dense(64, activation='relu'))\n",
        "model_glove.add(Dense(7, activation='softmax'))\n",
        "#model_glove.compile(loss=focal_loss(alpha=1), optimizer='adam', metrics=['accuracy']) #use if you are using focal loss\n",
        "model_glove.compile(loss='categorical_crossentropy', optimizer='adam', metrics=['accuracy']) #use if you are using class_weight\n",
        "model_glove.summary()"
      ]
    },
    {
      "cell_type": "code",
      "execution_count": null,
      "metadata": {
        "colab": {
          "base_uri": "https://localhost:8080/",
          "height": 644
        },
        "id": "rnxOB06QhOD5",
        "outputId": "755ad58a-3aa1-4cc1-dcfb-fd64150d3110"
      },
      "outputs": [
        {
          "data": {
            "image/png": "[encoded data removed]",
            "text/plain": [
              "<IPython.core.display.Image object>"
            ]
          },
          "execution_count": 15,
          "metadata": {},
          "output_type": "execute_result"
        }
      ],
      "source": [
        "from tensorflow.keras.utils import plot_model\n",
        "plot_model(model_glove,show_shapes= True)"
      ]
    },
    {
      "cell_type": "code",
      "execution_count": null,
      "metadata": {
        "colab": {
          "base_uri": "https://localhost:8080/"
        },
        "id": "afVnFi61pqid",
        "outputId": "6c1d6a12-b7b0-44b7-bb81-78c561de7bfd"
      },
      "outputs": [
        {
          "name": "stdout",
          "output_type": "stream",
          "text": [
            "Epoch 1/20\n",
            "220/220 [==============================] - 3s 7ms/step - loss: 1.4652 - accuracy: 0.4564 - val_loss: 1.3217 - val_accuracy: 0.5300\n",
            "Epoch 2/20\n",
            "220/220 [==============================] - 1s 6ms/step - loss: 0.9194 - accuracy: 0.6814 - val_loss: 1.2101 - val_accuracy: 0.5600\n",
            "Epoch 3/20\n",
            "220/220 [==============================] - 1s 6ms/step - loss: 0.5682 - accuracy: 0.8213 - val_loss: 1.4469 - val_accuracy: 0.5500\n",
            "Epoch 4/20\n",
            "220/220 [==============================] - 1s 6ms/step - loss: 0.2972 - accuracy: 0.9180 - val_loss: 1.5031 - val_accuracy: 0.5700\n",
            "Epoch 5/20\n",
            "220/220 [==============================] - 1s 6ms/step - loss: 0.1443 - accuracy: 0.9665 - val_loss: 1.6007 - val_accuracy: 0.5900\n",
            "Epoch 6/20\n",
            "220/220 [==============================] - 1s 6ms/step - loss: 0.0764 - accuracy: 0.9847 - val_loss: 1.9355 - val_accuracy: 0.5400\n",
            "Epoch 7/20\n",
            "220/220 [==============================] - 1s 6ms/step - loss: 0.0517 - accuracy: 0.9889 - val_loss: 2.0402 - val_accuracy: 0.5600\n",
            "Epoch 8/20\n",
            "220/220 [==============================] - 1s 6ms/step - loss: 0.0447 - accuracy: 0.9916 - val_loss: 1.8641 - val_accuracy: 0.5700\n",
            "Epoch 9/20\n",
            "220/220 [==============================] - 1s 6ms/step - loss: 0.0374 - accuracy: 0.9919 - val_loss: 2.3690 - val_accuracy: 0.5400\n",
            "Epoch 10/20\n",
            "220/220 [==============================] - 1s 6ms/step - loss: 0.0361 - accuracy: 0.9920 - val_loss: 1.8848 - val_accuracy: 0.6100\n",
            "Epoch 11/20\n",
            "220/220 [==============================] - 1s 6ms/step - loss: 0.0360 - accuracy: 0.9933 - val_loss: 1.8848 - val_accuracy: 0.5500\n",
            "Epoch 12/20\n",
            "220/220 [==============================] - 1s 6ms/step - loss: 0.0308 - accuracy: 0.9926 - val_loss: 2.0565 - val_accuracy: 0.5600\n",
            "Epoch 13/20\n",
            "220/220 [==============================] - 1s 6ms/step - loss: 0.0274 - accuracy: 0.9942 - val_loss: 2.0145 - val_accuracy: 0.5700\n",
            "Epoch 14/20\n",
            "220/220 [==============================] - 1s 6ms/step - loss: 0.0314 - accuracy: 0.9930 - val_loss: 2.3665 - val_accuracy: 0.5900\n",
            "Epoch 15/20\n",
            "220/220 [==============================] - 1s 6ms/step - loss: 0.0300 - accuracy: 0.9936 - val_loss: 2.2085 - val_accuracy: 0.5800\n",
            "Epoch 16/20\n",
            "220/220 [==============================] - 1s 6ms/step - loss: 0.1087 - accuracy: 0.9697 - val_loss: 2.5443 - val_accuracy: 0.5100\n"
          ]
        },
        {
          "data": {
            "text/plain": [
              "<keras.callbacks.History at 0x7fa4802345d0>"
            ]
          },
          "execution_count": 13,
          "metadata": {},
          "output_type": "execute_result"
        }
      ],
      "source": [
        "model_glove.fit(x_train, y_train, epochs = 20, validation_data=(x_val, y_val), callbacks=[callback]) #insert class_weight=class_weight if using class_weight"
      ]
    },
    {
      "cell_type": "code",
      "execution_count": null,
      "metadata": {
        "id": "w5D5uKHeprFf"
      },
      "outputs": [],
      "source": [
        "y_pred = model_glove.predict(x_test)"
      ]
    },
    {
      "cell_type": "code",
      "execution_count": null,
      "metadata": {
        "id": "bW9DuJQ0pwDd"
      },
      "outputs": [],
      "source": [
        "y_pred_clean = np.argmax(y_pred, 1)\n",
        "y_test_clean = np.argmax(y_test, 1)"
      ]
    },
    {
      "cell_type": "code",
      "execution_count": null,
      "metadata": {
        "colab": {
          "base_uri": "https://localhost:8080/"
        },
        "id": "pFBa81MapwlG",
        "outputId": "2953a0e8-fc05-4496-acb6-0a885b076083"
      },
      "outputs": [
        {
          "name": "stdout",
          "output_type": "stream",
          "text": [
            "              precision    recall  f1-score   support\n",
            "\n",
            "           0       0.52      0.57      0.54        54\n",
            "           1       0.43      0.47      0.45        53\n",
            "           2       0.67      0.57      0.62        54\n",
            "           3       0.59      0.33      0.42        52\n",
            "           4       0.52      0.75      0.61        55\n",
            "           5       0.57      0.56      0.56        54\n",
            "           6       0.49      0.46      0.48        54\n",
            "\n",
            "    accuracy                           0.53       376\n",
            "   macro avg       0.54      0.53      0.53       376\n",
            "weighted avg       0.54      0.53      0.53       376\n",
            "\n"
          ]
        }
      ],
      "source": [
        "print(classification_report(y_test_clean, y_pred_clean))"
      ]
    }
  ],
  "metadata": {
    "accelerator": "GPU",
    "colab": {
      "collapsed_sections": [],
      "name": "CNN-Glove.ipynb",
      "provenance": []
    },
    "kernelspec": {
      "display_name": "Python 3",
      "name": "python3"
    },
    "language_info": {
      "name": "python"
    }
  },
  "nbformat": 4,
  "nbformat_minor": 2
}
